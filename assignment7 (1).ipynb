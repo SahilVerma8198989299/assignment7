{
 "cells": [
  {
   "cell_type": "markdown",
   "id": "435920de-bd49-48f0-a3fa-86993e58d87d",
   "metadata": {},
   "source": [
    "Q1. What is Abstraction in OOps? Explain with an example."
   ]
  },
  {
   "cell_type": "markdown",
   "id": "9505620c-721a-4d14-880d-20bce5838f97",
   "metadata": {},
   "source": [
    "Abstraction is a process of hiding the implementation details from the user, only highlighted information services provided to the user. In Python, abstraction can be achieved through the use of abstract classes and interfaces."
   ]
  },
  {
   "cell_type": "markdown",
   "id": "b5899234-fe96-4161-8a59-9d411396640f",
   "metadata": {},
   "source": [
    "Abstract class:- abstract class is a class that contains one or more abtract method is called abstract class."
   ]
  },
  {
   "cell_type": "markdown",
   "id": "d6042ca7-7409-4dbc-911c-3a2e5bf712c9",
   "metadata": {},
   "source": [
    "note:- 1. an object can not be created of an abstract class."
   ]
  },
  {
   "cell_type": "markdown",
   "id": "ed7a86da-bd8e-4e04-aae9-20d7805cedc3",
   "metadata": {},
   "source": [
    "2.python provide abc module to work on abstraction class."
   ]
  },
  {
   "cell_type": "markdown",
   "id": "3057c239-7612-4ae2-a8ff-f12a5f5e896c",
   "metadata": {},
   "source": [
    "3.We use @abc.abstractmethod decorator to define abstract method."
   ]
  },
  {
   "cell_type": "code",
   "execution_count": 2,
   "id": "9516763b-6873-4f78-8969-875a5376d770",
   "metadata": {},
   "outputs": [
    {
     "name": "stdout",
     "output_type": "stream",
     "text": [
      "Bark\n",
      "Eating dog food\n"
     ]
    }
   ],
   "source": [
    "import abc\n",
    "\n",
    "class Animal:\n",
    "    @abc.abstractmethod\n",
    "    def sound(self):\n",
    "        pass\n",
    "\n",
    "    @abc.abstractmethod\n",
    "    def eat(self):\n",
    "        pass\n",
    "\n",
    "class Dog(Animal):\n",
    "    def sound(self):\n",
    "        print(\"Bark\")\n",
    "\n",
    "    def eat(self):\n",
    "        print(\"Eating dog food\")\n",
    "\n",
    "class Cat(Animal):\n",
    "    def sound(self):\n",
    "        print(\"Meow\")\n",
    "\n",
    "    def eat(self):\n",
    "        print(\"Eating cat food\")\n",
    "\n",
    "# Creating objects of derived classes\n",
    "dog = Dog()\n",
    "cat = Cat()\n",
    "\n",
    "# Calling methods of the derived classes\n",
    "dog.sound()  \n",
    "dog.eat()    "
   ]
  },
  {
   "cell_type": "code",
   "execution_count": 3,
   "id": "61d64323-284f-44be-83aa-3535cc1b000f",
   "metadata": {},
   "outputs": [
    {
     "name": "stdout",
     "output_type": "stream",
     "text": [
      "Meow\n",
      "Eating cat food\n"
     ]
    }
   ],
   "source": [
    "cat.sound()  \n",
    "cat.eat()  "
   ]
  },
  {
   "cell_type": "markdown",
   "id": "0b4e366a-a9da-4555-8eca-f50980a952a5",
   "metadata": {},
   "source": [
    "Interface:- interface is nothing but abstract class which contains only abstract method but not any normal method."
   ]
  },
  {
   "cell_type": "markdown",
   "id": "3b7b6dde-8fe1-467f-bc51-d3f203c27962",
   "metadata": {},
   "source": [
    "Q2. Differentiate between Abstraction and Encapsulation. Explain with an example."
   ]
  },
  {
   "cell_type": "markdown",
   "id": "001e7fb5-8aa9-4f8b-9388-57f2df4e8c98",
   "metadata": {},
   "source": [
    "Abstraction and encapsulation are two important concepts in object-oriented programming"
   ]
  },
  {
   "cell_type": "markdown",
   "id": "f5c0c4c7-7de0-4cfd-b40c-7b0c88c070f8",
   "metadata": {},
   "source": [
    "Abstraction:\n",
    "\n",
    "Abstraction focuses on hiding the internal details and complexities of a class or object and exposing only the essential features and functionalities to the outside world.\n",
    "\n",
    "It allows us to create more general and simplified representations of real-world entities.\n",
    "\n",
    "Abstraction is achieved through abstract classes or interfaces that define the contract and provide a common interface for related objects or classes.\n",
    "\n",
    "The goal of abstraction is to provide a high-level view or understanding of an object or system without getting into the specifics of its implementation.\n",
    "\n",
    "Encapsulation:\n",
    "\n",
    "Encapsulation is the practice of bundling data and the methods that operate on that data together in a single unit called a class.\n",
    "\n",
    "It involves hiding the internal state and implementation details of an object and providing access to them only through well-defined public interfaces (methods).\n",
    "\n",
    "Encapsulation helps in data protection and prevents direct access to the internal state of an object, enforcing controlled access through methods.\n",
    "\n",
    "The purpose of encapsulation is to promote data integrity, modularity, and code reusability by keeping related data and methods together and isolating them from external interference.\n",
    "\n",
    "\n",
    "In this example, BankAccount is a class that encapsulates the account details and operations. The internal state of the account (account number and balance) is encapsulated within the class, and external access is provided only through defined methods such as deposit(), withdraw(), get_balance(), and display_account_info().\n",
    "\n",
    "The abstraction is not explicitly shown in this example, but it can be extended by introducing an abstract class or interface for the BankAccount class. The abstract class or interface would define a contract for the necessary methods (e.g., deposit(), withdraw(), get_balance()) that any concrete implementation of a bank account class should provide. This abstraction allows us to work with multiple bank account classes interchangeably without worrying about their specific implementations.\n",
    "\n",
    "\n",
    "\n",
    "\n",
    "\n",
    "\n"
   ]
  },
  {
   "cell_type": "code",
   "execution_count": 6,
   "id": "2def7b65-732b-4479-aaf4-324b4e870cc0",
   "metadata": {},
   "outputs": [
    {
     "name": "stdout",
     "output_type": "stream",
     "text": [
      "Account Balance: 1300\n",
      "Account Number: 1234567890\n",
      "Balance: 1300\n"
     ]
    }
   ],
   "source": [
    "# Example:\n",
    "class BankAccount:\n",
    "    def __init__(self, account_number, balance):\n",
    "        self.account_number = account_number\n",
    "        self.balance = balance\n",
    "\n",
    "    def deposit(self, amount):\n",
    "        self.balance += amount\n",
    "\n",
    "    def withdraw(self, amount):\n",
    "        if self.balance >= amount:\n",
    "            self.balance -= amount\n",
    "        else:\n",
    "            print(\"Insufficient funds\")\n",
    "\n",
    "    def get_balance(self):\n",
    "        return self.balance\n",
    "\n",
    "    def display_account_info(self):\n",
    "        print(\"Account Number:\", self.account_number)\n",
    "        print(\"Balance:\", self.balance)\n",
    "\n",
    "\n",
    "# Creating an instance of the BankAccount class\n",
    "account = BankAccount(\"1234567890\", 1000)\n",
    "\n",
    "# Performing operations on the account\n",
    "account.deposit(500)\n",
    "account.withdraw(200)\n",
    "\n",
    "# Accessing the account balance through a public method\n",
    "balance = account.get_balance()\n",
    "print(\"Account Balance:\", balance)\n",
    "\n",
    "# Displaying the account information\n",
    "account.display_account_info()"
   ]
  },
  {
   "cell_type": "markdown",
   "id": "2d1967a1-3653-473c-a2cd-92ea56f038bf",
   "metadata": {},
   "source": [
    "Q3. What is abc module in python? Why is it used?"
   ]
  },
  {
   "cell_type": "markdown",
   "id": "805bf515-c1e0-4412-9a6f-7bca1eb05911",
   "metadata": {},
   "source": [
    "The abc module in Python stands for \"Abstract Base Classes.\" It is a built-in module that provides infrastructure for defining abstract base classes (ABCs) in Python.\n",
    "\n",
    "Abstract base classes are classes that cannot be instantiated and serve as blueprints or contracts for derived classes. They define a common interface that derived classes must adhere to by implementing specific methods.\n",
    "\n",
    "The abc module provides the ABC class as the base class for defining abstract base classes. It also provides the abstractmethod decorator, which is used to mark methods as abstract within the abstract base class."
   ]
  },
  {
   "cell_type": "markdown",
   "id": "56f9534e-daf6-4506-8353-8d2a9adda612",
   "metadata": {},
   "source": [
    "Q4. How can we achieve data abstraction?"
   ]
  },
  {
   "cell_type": "markdown",
   "id": "e816cdcc-98ca-4e5e-a311-e85702a8bca5",
   "metadata": {},
   "source": [
    "In object-oriented programming (OOP), data abstraction can be achieved through the following mechanisms:\n",
    "\n",
    "Classes and Objects: Classes act as blueprints for creating objects. By defining classes, you can encapsulate data (attributes) and behavior (methods) together. Objects are instances of classes and provide a way to interact with the data and behavior defined by the class.\n",
    "\n",
    "Access Modifiers: Access modifiers (such as public, private, and protected) control the visibility and accessibility of data and methods within a class. By using access modifiers, you can hide the internal details of a class from the outside world.\n",
    "\n",
    "Getters and Setters: Getters and setters are methods used to access and modify the internal state of an object. They provide controlled access to the data attributes of a class, allowing you to enforce validation or perform additional operations when accessing or modifying the data.\n",
    "\n",
    "Encapsulation: Encapsulation is the practice of bundling data and methods together within a class. It helps in hiding the internal state and implementation details of an object, exposing only the necessary interfaces or methods to interact with the object"
   ]
  },
  {
   "cell_type": "markdown",
   "id": "4fc314fa-f3ec-4eba-9547-318d9fd2c2c3",
   "metadata": {},
   "source": [
    "Q5. Can we create an instance of an abstract class? Explain your answer."
   ]
  },
  {
   "cell_type": "markdown",
   "id": "938a2b66-ea5f-4081-a0a5-fc8a2c32a870",
   "metadata": {},
   "source": [
    "\n",
    "No, we cannot create an instance of an abstract class in Python.\n",
    "\n",
    "An abstract class is a class that contains one or more abstract methods, which are methods without an implementation. It serves as a blueprint or contract for derived classes, providing a common interface that they must adhere to. Abstract classes are meant to be subclassed and serve as a foundation for creating concrete classes."
   ]
  },
  {
   "cell_type": "code",
   "execution_count": null,
   "id": "21b473f1-6922-4e31-83c4-73ed7eec1c49",
   "metadata": {},
   "outputs": [],
   "source": []
  },
  {
   "cell_type": "code",
   "execution_count": null,
   "id": "c9c8dc63-11cb-4a46-a01e-c6f39e59cfe9",
   "metadata": {},
   "outputs": [],
   "source": []
  }
 ],
 "metadata": {
  "kernelspec": {
   "display_name": "Python 3 (ipykernel)",
   "language": "python",
   "name": "python3"
  },
  "language_info": {
   "codemirror_mode": {
    "name": "ipython",
    "version": 3
   },
   "file_extension": ".py",
   "mimetype": "text/x-python",
   "name": "python",
   "nbconvert_exporter": "python",
   "pygments_lexer": "ipython3",
   "version": "3.10.8"
  }
 },
 "nbformat": 4,
 "nbformat_minor": 5
}
